{
 "cells": [
  {
   "cell_type": "markdown",
   "id": "c5fe6425",
   "metadata": {},
   "source": [
    "# Project 1: \"Custom Segmentation\"\n",
    "\n",
    "## Aim:\n",
    "En este proyecto se va a realizar una Clasificación no supervisada a cerca de el tipo de clientes que compran en alguna tienda de retail via online. Con esto se ejecutará una estrategia para identificar al cliente y quizás hacer recomendaciones al respecto. Para lograr esto habrá que hacer una clasificación mediante KMeans y Gaussian Mixture Models para identificar los clientes, para luego hacer implementar un algoritmo de recomendación. \n",
    "\n",
    "## Content:\n",
    "  1. Knowing Data.\n",
    "  2. Data Visualization.\n",
    "  3. Preprocessing data: Making new variables and transforming variables.   \n",
    "  4.\n",
    "  5. "
   ]
  },
  {
   "cell_type": "markdown",
   "id": "79f4499b",
   "metadata": {},
   "source": [
    "# 1."
   ]
  },
  {
   "cell_type": "code",
   "execution_count": 1,
   "id": "ae15edb3",
   "metadata": {},
   "outputs": [
    {
     "name": "stdout",
     "output_type": "stream",
     "text": [
      "Collecting openpyxl\n",
      "  Downloading openpyxl-3.1.2-py2.py3-none-any.whl (249 kB)\n",
      "\u001b[2K     \u001b[90m━━━━━━━━━━━━━━━━━━━━━━━━━━━━━━━━━━━━━━━\u001b[0m \u001b[32m250.0/250.0 kB\u001b[0m \u001b[31m6.7 MB/s\u001b[0m eta \u001b[36m0:00:00\u001b[0m00:01\u001b[0m\n",
      "\u001b[?25hCollecting et-xmlfile\n",
      "  Downloading et_xmlfile-1.1.0-py3-none-any.whl (4.7 kB)\n",
      "Installing collected packages: et-xmlfile, openpyxl\n",
      "Successfully installed et-xmlfile-1.1.0 openpyxl-3.1.2\n",
      "\u001b[33mWARNING: Running pip as the 'root' user can result in broken permissions and conflicting behaviour with the system package manager. It is recommended to use a virtual environment instead: https://pip.pypa.io/warnings/venv\u001b[0m\u001b[33m\n",
      "\u001b[0m\n",
      "\u001b[1m[\u001b[0m\u001b[34;49mnotice\u001b[0m\u001b[1;39;49m]\u001b[0m\u001b[39;49m A new release of pip is available: \u001b[0m\u001b[31;49m23.0.1\u001b[0m\u001b[39;49m -> \u001b[0m\u001b[32;49m23.2\u001b[0m\n",
      "\u001b[1m[\u001b[0m\u001b[34;49mnotice\u001b[0m\u001b[1;39;49m]\u001b[0m\u001b[39;49m To update, run: \u001b[0m\u001b[32;49mpip install --upgrade pip\u001b[0m\n"
     ]
    }
   ],
   "source": [
    "#Instalar openpyxl para el uso en el docker\n",
    "!pip install openpyxl"
   ]
  },
  {
   "cell_type": "code",
   "execution_count": 2,
   "id": "1617c155",
   "metadata": {},
   "outputs": [],
   "source": [
    "import pandas as pd\n",
    "import numpy as np\n",
    "import matplotlib.pyplot as plt\n",
    "import matplotlib.colors as colors"
   ]
  },
  {
   "cell_type": "code",
   "execution_count": 3,
   "id": "9fdd5792",
   "metadata": {},
   "outputs": [],
   "source": [
    "PATH = \"online_retail_II.xlsx\"\n",
    "ds = pd.read_excel(PATH)"
   ]
  },
  {
   "cell_type": "code",
   "execution_count": 4,
   "id": "4f2429cd",
   "metadata": {},
   "outputs": [
    {
     "data": {
      "text/html": [
       "<div>\n",
       "<style scoped>\n",
       "    .dataframe tbody tr th:only-of-type {\n",
       "        vertical-align: middle;\n",
       "    }\n",
       "\n",
       "    .dataframe tbody tr th {\n",
       "        vertical-align: top;\n",
       "    }\n",
       "\n",
       "    .dataframe thead th {\n",
       "        text-align: right;\n",
       "    }\n",
       "</style>\n",
       "<table border=\"1\" class=\"dataframe\">\n",
       "  <thead>\n",
       "    <tr style=\"text-align: right;\">\n",
       "      <th></th>\n",
       "      <th>Invoice</th>\n",
       "      <th>StockCode</th>\n",
       "      <th>Description</th>\n",
       "      <th>Quantity</th>\n",
       "      <th>InvoiceDate</th>\n",
       "      <th>Price</th>\n",
       "      <th>Customer ID</th>\n",
       "      <th>Country</th>\n",
       "    </tr>\n",
       "  </thead>\n",
       "  <tbody>\n",
       "    <tr>\n",
       "      <th>0</th>\n",
       "      <td>489434</td>\n",
       "      <td>85048</td>\n",
       "      <td>15CM CHRISTMAS GLASS BALL 20 LIGHTS</td>\n",
       "      <td>12</td>\n",
       "      <td>2009-12-01 07:45:00</td>\n",
       "      <td>6.95</td>\n",
       "      <td>13085.0</td>\n",
       "      <td>United Kingdom</td>\n",
       "    </tr>\n",
       "    <tr>\n",
       "      <th>1</th>\n",
       "      <td>489434</td>\n",
       "      <td>79323P</td>\n",
       "      <td>PINK CHERRY LIGHTS</td>\n",
       "      <td>12</td>\n",
       "      <td>2009-12-01 07:45:00</td>\n",
       "      <td>6.75</td>\n",
       "      <td>13085.0</td>\n",
       "      <td>United Kingdom</td>\n",
       "    </tr>\n",
       "    <tr>\n",
       "      <th>2</th>\n",
       "      <td>489434</td>\n",
       "      <td>79323W</td>\n",
       "      <td>WHITE CHERRY LIGHTS</td>\n",
       "      <td>12</td>\n",
       "      <td>2009-12-01 07:45:00</td>\n",
       "      <td>6.75</td>\n",
       "      <td>13085.0</td>\n",
       "      <td>United Kingdom</td>\n",
       "    </tr>\n",
       "    <tr>\n",
       "      <th>3</th>\n",
       "      <td>489434</td>\n",
       "      <td>22041</td>\n",
       "      <td>RECORD FRAME 7\" SINGLE SIZE</td>\n",
       "      <td>48</td>\n",
       "      <td>2009-12-01 07:45:00</td>\n",
       "      <td>2.10</td>\n",
       "      <td>13085.0</td>\n",
       "      <td>United Kingdom</td>\n",
       "    </tr>\n",
       "    <tr>\n",
       "      <th>4</th>\n",
       "      <td>489434</td>\n",
       "      <td>21232</td>\n",
       "      <td>STRAWBERRY CERAMIC TRINKET BOX</td>\n",
       "      <td>24</td>\n",
       "      <td>2009-12-01 07:45:00</td>\n",
       "      <td>1.25</td>\n",
       "      <td>13085.0</td>\n",
       "      <td>United Kingdom</td>\n",
       "    </tr>\n",
       "  </tbody>\n",
       "</table>\n",
       "</div>"
      ],
      "text/plain": [
       "  Invoice StockCode                          Description  Quantity   \n",
       "0  489434     85048  15CM CHRISTMAS GLASS BALL 20 LIGHTS        12  \\\n",
       "1  489434    79323P                   PINK CHERRY LIGHTS        12   \n",
       "2  489434    79323W                  WHITE CHERRY LIGHTS        12   \n",
       "3  489434     22041         RECORD FRAME 7\" SINGLE SIZE         48   \n",
       "4  489434     21232       STRAWBERRY CERAMIC TRINKET BOX        24   \n",
       "\n",
       "          InvoiceDate  Price  Customer ID         Country  \n",
       "0 2009-12-01 07:45:00   6.95      13085.0  United Kingdom  \n",
       "1 2009-12-01 07:45:00   6.75      13085.0  United Kingdom  \n",
       "2 2009-12-01 07:45:00   6.75      13085.0  United Kingdom  \n",
       "3 2009-12-01 07:45:00   2.10      13085.0  United Kingdom  \n",
       "4 2009-12-01 07:45:00   1.25      13085.0  United Kingdom  "
      ]
     },
     "execution_count": 4,
     "metadata": {},
     "output_type": "execute_result"
    }
   ],
   "source": [
    "ds.head()"
   ]
  },
  {
   "cell_type": "markdown",
   "id": "1db72aa6",
   "metadata": {},
   "source": [
    "**Variables:**\n",
    "\n",
    " -`Invoice`: Número de la factura, debería corresponder a un mismo  `ID Customer`.\n",
    " \n",
    " -`StockCode`: Corresponde al ID del producto.\n",
    " \n",
    " -`Description`: El producto en sí.\n",
    " \n",
    " -`Quantity`: Cantidad del producto (el stock).\n",
    " \n",
    " -`InvoiceDate`: Fecha y hora en la que se emitió la factura o boleta.\n",
    " \n",
    " -`Price`: Precio (Supongo que en Dólares).\n",
    " \n",
    " -`Customer ID`: ID del Cliente.\n",
    " \n",
    " -`Country`: Nacionalidad del cliente. "
   ]
  },
  {
   "cell_type": "markdown",
   "id": "57520367",
   "metadata": {},
   "source": [
    "**Exploración de datos:**"
   ]
  },
  {
   "cell_type": "code",
   "execution_count": 5,
   "id": "814eb6e7",
   "metadata": {},
   "outputs": [
    {
     "data": {
      "text/plain": [
       "Invoice         0.000000\n",
       "StockCode       0.000000\n",
       "Description     0.557225\n",
       "Quantity        0.000000\n",
       "InvoiceDate     0.000000\n",
       "Price           0.000000\n",
       "Customer ID    20.539488\n",
       "Country         0.000000\n",
       "dtype: float64"
      ]
     },
     "execution_count": 5,
     "metadata": {},
     "output_type": "execute_result"
    }
   ],
   "source": [
    "(ds.isna().sum()/ds.shape[0])*100 "
   ]
  },
  {
   "cell_type": "markdown",
   "id": "8f118848",
   "metadata": {},
   "source": [
    "> Se procederá a quitar aquellos datos faltantes pertenecientes en su mayoría a los costumers (\\~ 20\\%), ya que pertenecen a nuestra variable dependiente o **target**."
   ]
  },
  {
   "cell_type": "code",
   "execution_count": 6,
   "id": "7cd22e8a",
   "metadata": {},
   "outputs": [
    {
     "name": "stdout",
     "output_type": "stream",
     "text": [
      "Invoice        0.0\n",
      "StockCode      0.0\n",
      "Description    0.0\n",
      "Quantity       0.0\n",
      "InvoiceDate    0.0\n",
      "Price          0.0\n",
      "Customer ID    0.0\n",
      "Country        0.0\n",
      "dtype: float64\n"
     ]
    }
   ],
   "source": [
    "ds.dropna(axis=0,inplace=True)\n",
    "print((ds.isna().sum()/ds.shape[0])*100 )"
   ]
  },
  {
   "cell_type": "code",
   "execution_count": 7,
   "id": "7d7568e7",
   "metadata": {
    "scrolled": true
   },
   "outputs": [
    {
     "data": {
      "text/plain": [
       "Invoice                object\n",
       "StockCode              object\n",
       "Description            object\n",
       "Quantity                int64\n",
       "InvoiceDate    datetime64[ns]\n",
       "Price                 float64\n",
       "Customer ID           float64\n",
       "Country                object\n",
       "dtype: object"
      ]
     },
     "execution_count": 7,
     "metadata": {},
     "output_type": "execute_result"
    }
   ],
   "source": [
    "ds.dtypes"
   ]
  },
  {
   "cell_type": "code",
   "execution_count": 8,
   "id": "92905acc",
   "metadata": {
    "scrolled": true
   },
   "outputs": [
    {
     "data": {
      "text/plain": [
       "Description\n",
       "WHITE HANGING HEART T-LIGHT HOLDER    3245\n",
       "REGENCY CAKESTAND 3 TIER              1872\n",
       "STRAWBERRY CERAMIC TRINKET BOX        1536\n",
       "ASSORTED COLOUR BIRD ORNAMENT         1376\n",
       "HOME BUILDING BLOCK WORD              1229\n",
       "                                      ... \n",
       "BLUE OWL DECORATION                      1\n",
       "PINK OWL DECORATION                      1\n",
       "IVORY WALL CLOCK                         1\n",
       "RED WALL CLOCK                           1\n",
       "BAKING MOULD EASTER EGG MILK CHOC        1\n",
       "Name: count, Length: 4459, dtype: int64"
      ]
     },
     "execution_count": 8,
     "metadata": {},
     "output_type": "execute_result"
    }
   ],
   "source": [
    "ds['Description'].value_counts()"
   ]
  },
  {
   "cell_type": "code",
   "execution_count": 9,
   "id": "fccca5ab",
   "metadata": {},
   "outputs": [
    {
     "data": {
      "text/plain": [
       "Customer ID\n",
       "14911.0    5710\n",
       "17841.0    5114\n",
       "14606.0    3927\n",
       "14156.0    2710\n",
       "12748.0    2665\n",
       "           ... \n",
       "18174.0       1\n",
       "14827.0       1\n",
       "17645.0       1\n",
       "16443.0       1\n",
       "13222.0       1\n",
       "Name: count, Length: 4383, dtype: int64"
      ]
     },
     "execution_count": 9,
     "metadata": {},
     "output_type": "execute_result"
    }
   ],
   "source": [
    "ds['Customer ID'].value_counts()"
   ]
  },
  {
   "cell_type": "code",
   "execution_count": 10,
   "id": "d57e9211",
   "metadata": {},
   "outputs": [
    {
     "data": {
      "text/plain": [
       "4035"
      ]
     },
     "execution_count": 10,
     "metadata": {},
     "output_type": "execute_result"
    }
   ],
   "source": [
    "len(ds[ds['Country']==\"United Kingdom\"][\"Customer ID\"].unique())"
   ]
  },
  {
   "cell_type": "code",
   "execution_count": 11,
   "id": "ec1d6cfc",
   "metadata": {},
   "outputs": [
    {
     "data": {
      "text/plain": [
       "array([489434, 489435, 490068, 490069, 496092, 496166, 'C527339'],\n",
       "      dtype=object)"
      ]
     },
     "execution_count": 11,
     "metadata": {},
     "output_type": "execute_result"
    }
   ],
   "source": [
    "ds[ds['Customer ID']==13085.0][\"Invoice\"].unique()"
   ]
  },
  {
   "cell_type": "code",
   "execution_count": 12,
   "id": "fecf6062",
   "metadata": {
    "scrolled": true
   },
   "outputs": [
    {
     "data": {
      "text/plain": [
       "array([489520, 490542, 490687, 490972, 'C490997', 'C491013', 'C491021',\n",
       "       491160, 'C491619', 'C491827', 492015, 492650, 'C492651', 492749,\n",
       "       492761, 'C492828', 'C493859', 'C493868', 493877, 493897, 'C493898',\n",
       "       493900, 'C494356', 'C495054', 495055, 495056, 495073, 'C495231',\n",
       "       495277, 495488, 495733, 495734, 495758, 496008, 496334, 496564,\n",
       "       496584, 'C496586', 497337, 'C497338', 497339, 'C497930', 498021,\n",
       "       'C498122', 498135, 498249, 498254, 498569, 498921, 'C498922',\n",
       "       498935, 499067, 499919, 499922, 499921, 500123, 'C500698', 501043,\n",
       "       501201, 501281, 'C501323', 501484, 501627, 501628, 501810,\n",
       "       'C502292', 'C502332', 502334, 502422, 'C502452', 'C502454', 502455,\n",
       "       502456, 502595, 502673, 503067, 'C504197', 'C504199', 504913,\n",
       "       504915, 505522, 'C505800', 505806, 505884, 506290, 506308, 506730,\n",
       "       506731, 'C506739', 506740, 'C506753', 507064, 507386, 507393,\n",
       "       507396, 507478, 507673, 'C508911', 509154, 509536, 'C509629',\n",
       "       509851, 510743, 510744, 511993, 512004, 512280, 512282, 512309,\n",
       "       'C512323', 512558, 512696, 512697, 512698, 513167, 513203, 513270,\n",
       "       513316, 513372, 'C513404', 513498, 'C514011', 514138, 'C514156',\n",
       "       514157, 514218, 514720, 514774, 514979, 515265, 515305, 515344,\n",
       "       515417, 515619, 'C515973', 516011, 516464, 517044, 517232,\n",
       "       'C517461', 517645, 'C517892', 517974, 'C518479', 518497, 'C518758',\n",
       "       'C518844', 519550, 519614, 519698, 519699, 519814, 519829, 519830,\n",
       "       520189, 520506, 520746, 520883, 521115, 521365, 521642, 521692,\n",
       "       521809, 522121, 'C522168', 522703, 'C522851', 523082, 523302,\n",
       "       523306, 523356, 'C523382', 523966, 524018, 524139, 524147,\n",
       "       'C524154', 524155, 'C524158', 524205, 524299, 524412, 524522,\n",
       "       524539, 'C524541', 'C524593', 524594, 524618, 525013, 525014,\n",
       "       525037, 'C525168', 525224, 525294, 525295, 525575, 526142, 526153,\n",
       "       526242, 526862, 526899, 527042, 527104, 527115, 527499, 'C527580',\n",
       "       527889, 'C527919', 'C527927', 528114, 'C528148', 528316, 528366,\n",
       "       528386, 'C528393', 'C528418', 528420, 528767, 528949, 529093,\n",
       "       529203, 529315, 529510, 529585, 530064, 530130, 530426, 530661,\n",
       "       530936, 530999, 'C531045', 531123, 'C531133', 531358, 531776,\n",
       "       532050, 532051, 'C532130', 532418, 532432, 532566, 'C532830',\n",
       "       532983, 532984, 'C532987', 533096, 533290, 533595, 533759,\n",
       "       'C533778', 533987, 534058, 534143, 534233, 534667, 534668,\n",
       "       'C534695', 'C534782', 'C534827', 'C534850', 535434, 536019, 536540,\n",
       "       536541, 536803, 536975, 537368, 537378, 537386, 538009],\n",
       "      dtype=object)"
      ]
     },
     "execution_count": 12,
     "metadata": {},
     "output_type": "execute_result"
    }
   ],
   "source": [
    "ds[ds['Customer ID']==14911.0][\"Invoice\"].unique()"
   ]
  },
  {
   "cell_type": "code",
   "execution_count": 13,
   "id": "3b778c76",
   "metadata": {
    "scrolled": true
   },
   "outputs": [
    {
     "data": {
      "text/plain": [
       "array(['489520', '490542', '490687', '490972', 'C490997', 'C491013',\n",
       "       'C491021', '491160', 'C491619', 'C491827', '492015', '492650',\n",
       "       'C492651', '492749', '492761', 'C492828', 'C493859', 'C493868',\n",
       "       '493877', '493897', 'C493898', '493900', 'C494356', 'C495054',\n",
       "       '495055', '495056', '495073', 'C495231', '495277', '495488',\n",
       "       '495733', '495734', '495758', '496008', '496334', '496564',\n",
       "       '496584', 'C496586', '497337', 'C497338', '497339', 'C497930',\n",
       "       '498021', 'C498122', '498135', '498249', '498254', '498569',\n",
       "       '498921', 'C498922', '498935', '499067', '499919', '499922',\n",
       "       '499921', '500123', 'C500698', '501043', '501201', '501281',\n",
       "       'C501323', '501484', '501627', '501628', '501810', 'C502292',\n",
       "       'C502332', '502334', '502422', 'C502452', 'C502454', '502455',\n",
       "       '502456', '502595', '502673', '503067', 'C504197', 'C504199',\n",
       "       '504913', '504915', '505522', 'C505800', '505806', '505884',\n",
       "       '506290', '506308', '506730', '506731', 'C506739', '506740',\n",
       "       'C506753', '507064', '507386', '507393', '507396', '507478',\n",
       "       '507673', 'C508911', '509154', '509536', 'C509629', '509851',\n",
       "       '510743', '510744', '511993', '512004', '512280', '512282',\n",
       "       '512309', 'C512323', '512558', '512696', '512697', '512698',\n",
       "       '513167', '513203', '513270', '513316', '513372', 'C513404',\n",
       "       '513498', 'C514011', '514138', 'C514156', '514157', '514218',\n",
       "       '514720', '514774', '514979', '515265', '515305', '515344',\n",
       "       '515417', '515619', 'C515973', '516011', '516464', '517044',\n",
       "       '517232', 'C517461', '517645', 'C517892', '517974', 'C518479',\n",
       "       '518497', 'C518758', 'C518844', '519550', '519614', '519698',\n",
       "       '519699', '519814', '519829', '519830', '520189', '520506',\n",
       "       '520746', '520883', '521115', '521365', '521642', '521692',\n",
       "       '521809', '522121', 'C522168', '522703', 'C522851', '523082',\n",
       "       '523302', '523306', '523356', 'C523382', '523966', '524018',\n",
       "       '524139', '524147', 'C524154', '524155', 'C524158', '524205',\n",
       "       '524299', '524412', '524522', '524539', 'C524541', 'C524593',\n",
       "       '524594', '524618', '525013', '525014', '525037', 'C525168',\n",
       "       '525224', '525294', '525295', '525575', '526142', '526153',\n",
       "       '526242', '526862', '526899', '527042', '527104', '527115',\n",
       "       '527499', 'C527580', '527889', 'C527919', 'C527927', '528114',\n",
       "       'C528148', '528316', '528366', '528386', 'C528393', 'C528418',\n",
       "       '528420', '528767', '528949', '529093', '529203', '529315',\n",
       "       '529510', '529585', '530064', '530130', '530426', '530661',\n",
       "       '530936', '530999', 'C531045', '531123', 'C531133', '531358',\n",
       "       '531776', '532050', '532051', 'C532130', '532418', '532432',\n",
       "       '532566', 'C532830', '532983', '532984', 'C532987', '533096',\n",
       "       '533290', '533595', '533759', 'C533778', '533987', '534058',\n",
       "       '534143', '534233', '534667', '534668', 'C534695', 'C534782',\n",
       "       'C534827', 'C534850', '535434', '536019', '536540', '536541',\n",
       "       '536803', '536975', '537368', '537378', '537386', '538009'],\n",
       "      dtype=object)"
      ]
     },
     "execution_count": 13,
     "metadata": {},
     "output_type": "execute_result"
    }
   ],
   "source": [
    "ds = ds.astype({\"Invoice\":str,\"StockCode\":str,\"Customer ID\":str})\n",
    "ds[ds['Customer ID']==\"14911.0\"][\"Invoice\"].unique()"
   ]
  },
  {
   "cell_type": "code",
   "execution_count": 14,
   "id": "b88dc01d",
   "metadata": {
    "scrolled": true
   },
   "outputs": [
    {
     "data": {
      "text/plain": [
       "0       2009-12-01 07:45:00\n",
       "1       2009-12-01 07:45:00\n",
       "2       2009-12-01 07:45:00\n",
       "3       2009-12-01 07:45:00\n",
       "4       2009-12-01 07:45:00\n",
       "5       2009-12-01 07:45:00\n",
       "6       2009-12-01 07:45:00\n",
       "7       2009-12-01 07:45:00\n",
       "8       2009-12-01 07:46:00\n",
       "9       2009-12-01 07:46:00\n",
       "10      2009-12-01 07:46:00\n",
       "11      2009-12-01 07:46:00\n",
       "7739    2009-12-03 14:06:00\n",
       "7740    2009-12-03 14:06:00\n",
       "7741    2009-12-03 14:06:00\n",
       "7742    2009-12-03 14:06:00\n",
       "7743    2009-12-03 14:06:00\n",
       "7744    2009-12-03 14:06:00\n",
       "7745    2009-12-03 14:06:00\n",
       "7746    2009-12-03 14:06:00\n",
       "7747    2009-12-03 14:06:00\n",
       "7748    2009-12-03 14:07:00\n",
       "7749    2009-12-03 14:07:00\n",
       "7750    2009-12-03 14:07:00\n",
       "7751    2009-12-03 14:07:00\n",
       "7752    2009-12-03 14:07:00\n",
       "74247   2010-01-29 10:06:00\n",
       "74248   2010-01-29 10:06:00\n",
       "74249   2010-01-29 10:06:00\n",
       "74250   2010-01-29 10:06:00\n",
       "74251   2010-01-29 10:06:00\n",
       "74252   2010-01-29 10:06:00\n",
       "74253   2010-01-29 10:06:00\n",
       "74254   2010-01-29 10:06:00\n",
       "74255   2010-01-29 10:06:00\n",
       "74256   2010-01-29 10:06:00\n",
       "74257   2010-01-29 10:06:00\n",
       "74258   2010-01-29 10:06:00\n",
       "74259   2010-01-29 10:06:00\n",
       "74260   2010-01-29 10:06:00\n",
       "74261   2010-01-29 10:06:00\n",
       "74262   2010-01-29 10:06:00\n",
       "74263   2010-01-29 10:06:00\n",
       "74394   2010-01-29 11:42:00\n",
       "74395   2010-01-29 11:42:00\n",
       "74396   2010-01-29 11:42:00\n",
       "74397   2010-01-29 11:42:00\n",
       "74398   2010-01-29 11:42:00\n",
       "74399   2010-01-29 11:42:00\n",
       "74400   2010-01-29 11:42:00\n",
       "74401   2010-01-29 11:42:00\n",
       "74402   2010-01-29 11:42:00\n",
       "74403   2010-01-29 11:42:00\n",
       "74404   2010-01-29 11:42:00\n",
       "74405   2010-01-29 11:42:00\n",
       "74406   2010-01-29 11:42:00\n",
       "74407   2010-01-29 11:42:00\n",
       "74408   2010-01-29 11:42:00\n",
       "74409   2010-01-29 11:42:00\n",
       "74410   2010-01-29 11:42:00\n",
       "Name: InvoiceDate, dtype: datetime64[ns]"
      ]
     },
     "execution_count": 14,
     "metadata": {},
     "output_type": "execute_result"
    }
   ],
   "source": [
    "ds[ds['Customer ID']==\"13085.0\"]['InvoiceDate'].head(60)"
   ]
  },
  {
   "cell_type": "markdown",
   "id": "0c9a53d4",
   "metadata": {},
   "source": [
    "El formato de la columna fecha es _año-mes-día hora:min:seg_ Con esta información podríamos designar algún peso con respecto a la fecha en el cual se hicieron las compras; como por ejemplo sí hay productos que a tal fecha tuvieron diferente precio."
   ]
  },
  {
   "cell_type": "code",
   "execution_count": 15,
   "id": "31d1b25d",
   "metadata": {},
   "outputs": [],
   "source": [
    "grupo = ds.groupby('StockCode')"
   ]
  },
  {
   "cell_type": "code",
   "execution_count": 16,
   "id": "078112e3",
   "metadata": {},
   "outputs": [
    {
     "data": {
      "text/html": [
       "<div>\n",
       "<style scoped>\n",
       "    .dataframe tbody tr th:only-of-type {\n",
       "        vertical-align: middle;\n",
       "    }\n",
       "\n",
       "    .dataframe tbody tr th {\n",
       "        vertical-align: top;\n",
       "    }\n",
       "\n",
       "    .dataframe thead th {\n",
       "        text-align: right;\n",
       "    }\n",
       "</style>\n",
       "<table border=\"1\" class=\"dataframe\">\n",
       "  <thead>\n",
       "    <tr style=\"text-align: right;\">\n",
       "      <th></th>\n",
       "      <th>InvoiceDate</th>\n",
       "      <th>Price</th>\n",
       "      <th>Customer ID</th>\n",
       "      <th>Country</th>\n",
       "    </tr>\n",
       "  </thead>\n",
       "  <tbody>\n",
       "    <tr>\n",
       "      <th>0</th>\n",
       "      <td>2009-12-01 07:45:00</td>\n",
       "      <td>6.95</td>\n",
       "      <td>13085.0</td>\n",
       "      <td>United Kingdom</td>\n",
       "    </tr>\n",
       "    <tr>\n",
       "      <th>400</th>\n",
       "      <td>2009-12-01 11:35:00</td>\n",
       "      <td>7.95</td>\n",
       "      <td>15461.0</td>\n",
       "      <td>United Kingdom</td>\n",
       "    </tr>\n",
       "    <tr>\n",
       "      <th>626</th>\n",
       "      <td>2009-12-01 11:50:00</td>\n",
       "      <td>7.95</td>\n",
       "      <td>16714.0</td>\n",
       "      <td>United Kingdom</td>\n",
       "    </tr>\n",
       "    <tr>\n",
       "      <th>1134</th>\n",
       "      <td>2009-12-01 12:35:00</td>\n",
       "      <td>6.95</td>\n",
       "      <td>17641.0</td>\n",
       "      <td>United Kingdom</td>\n",
       "    </tr>\n",
       "    <tr>\n",
       "      <th>1256</th>\n",
       "      <td>2009-12-01 12:55:00</td>\n",
       "      <td>6.95</td>\n",
       "      <td>17056.0</td>\n",
       "      <td>United Kingdom</td>\n",
       "    </tr>\n",
       "    <tr>\n",
       "      <th>...</th>\n",
       "      <td>...</td>\n",
       "      <td>...</td>\n",
       "      <td>...</td>\n",
       "      <td>...</td>\n",
       "    </tr>\n",
       "    <tr>\n",
       "      <th>522573</th>\n",
       "      <td>2010-12-09 08:34:00</td>\n",
       "      <td>7.95</td>\n",
       "      <td>14243.0</td>\n",
       "      <td>United Kingdom</td>\n",
       "    </tr>\n",
       "    <tr>\n",
       "      <th>523103</th>\n",
       "      <td>2010-12-09 12:32:00</td>\n",
       "      <td>7.95</td>\n",
       "      <td>14527.0</td>\n",
       "      <td>United Kingdom</td>\n",
       "    </tr>\n",
       "    <tr>\n",
       "      <th>523546</th>\n",
       "      <td>2010-12-09 14:05:00</td>\n",
       "      <td>7.95</td>\n",
       "      <td>17978.0</td>\n",
       "      <td>United Kingdom</td>\n",
       "    </tr>\n",
       "    <tr>\n",
       "      <th>524636</th>\n",
       "      <td>2010-12-09 15:23:00</td>\n",
       "      <td>7.95</td>\n",
       "      <td>16042.0</td>\n",
       "      <td>United Kingdom</td>\n",
       "    </tr>\n",
       "    <tr>\n",
       "      <th>524668</th>\n",
       "      <td>2010-12-09 15:32:00</td>\n",
       "      <td>7.95</td>\n",
       "      <td>13327.0</td>\n",
       "      <td>United Kingdom</td>\n",
       "    </tr>\n",
       "  </tbody>\n",
       "</table>\n",
       "<p>273 rows × 4 columns</p>\n",
       "</div>"
      ],
      "text/plain": [
       "               InvoiceDate  Price Customer ID         Country\n",
       "0      2009-12-01 07:45:00   6.95     13085.0  United Kingdom\n",
       "400    2009-12-01 11:35:00   7.95     15461.0  United Kingdom\n",
       "626    2009-12-01 11:50:00   7.95     16714.0  United Kingdom\n",
       "1134   2009-12-01 12:35:00   6.95     17641.0  United Kingdom\n",
       "1256   2009-12-01 12:55:00   6.95     17056.0  United Kingdom\n",
       "...                    ...    ...         ...             ...\n",
       "522573 2010-12-09 08:34:00   7.95     14243.0  United Kingdom\n",
       "523103 2010-12-09 12:32:00   7.95     14527.0  United Kingdom\n",
       "523546 2010-12-09 14:05:00   7.95     17978.0  United Kingdom\n",
       "524636 2010-12-09 15:23:00   7.95     16042.0  United Kingdom\n",
       "524668 2010-12-09 15:32:00   7.95     13327.0  United Kingdom\n",
       "\n",
       "[273 rows x 4 columns]"
      ]
     },
     "execution_count": 16,
     "metadata": {},
     "output_type": "execute_result"
    }
   ],
   "source": [
    "grupo.get_group(\"85048\")[['InvoiceDate','Price','Customer ID','Country']]"
   ]
  },
  {
   "cell_type": "code",
   "execution_count": 17,
   "id": "a875157a",
   "metadata": {},
   "outputs": [
    {
     "data": {
      "text/plain": [
       "'15CM CHRISTMAS GLASS BALL 20 LIGHTS'"
      ]
     },
     "execution_count": 17,
     "metadata": {},
     "output_type": "execute_result"
    }
   ],
   "source": [
    "#Descriptions of Stocks:\n",
    "grupo.get_group(\"85048\")[['Description']].value_counts().index[0][0]"
   ]
  },
  {
   "cell_type": "code",
   "execution_count": 18,
   "id": "722355b9",
   "metadata": {},
   "outputs": [
    {
     "data": {
      "text/plain": [
       "Country       \n",
       "United Kingdom    260\n",
       "EIRE               11\n",
       "Spain               1\n",
       "Switzerland         1\n",
       "Name: count, dtype: int64"
      ]
     },
     "execution_count": 18,
     "metadata": {},
     "output_type": "execute_result"
    }
   ],
   "source": [
    "grupo.get_group(\"85048\")[['Country']].value_counts()"
   ]
  },
  {
   "cell_type": "code",
   "execution_count": 19,
   "id": "9bce404d",
   "metadata": {},
   "outputs": [],
   "source": [
    "grupo2 = ds.groupby(['StockCode','Country'])"
   ]
  },
  {
   "cell_type": "code",
   "execution_count": 20,
   "id": "3115f69c",
   "metadata": {},
   "outputs": [
    {
     "data": {
      "text/html": [
       "<div>\n",
       "<style scoped>\n",
       "    .dataframe tbody tr th:only-of-type {\n",
       "        vertical-align: middle;\n",
       "    }\n",
       "\n",
       "    .dataframe tbody tr th {\n",
       "        vertical-align: top;\n",
       "    }\n",
       "\n",
       "    .dataframe thead th {\n",
       "        text-align: right;\n",
       "    }\n",
       "</style>\n",
       "<table border=\"1\" class=\"dataframe\">\n",
       "  <thead>\n",
       "    <tr style=\"text-align: right;\">\n",
       "      <th></th>\n",
       "      <th>InvoiceDate</th>\n",
       "      <th>Price</th>\n",
       "      <th>Customer ID</th>\n",
       "    </tr>\n",
       "  </thead>\n",
       "  <tbody>\n",
       "    <tr>\n",
       "      <th>109673</th>\n",
       "      <td>2010-03-03 12:21:00</td>\n",
       "      <td>2.55</td>\n",
       "      <td>14911.0</td>\n",
       "    </tr>\n",
       "    <tr>\n",
       "      <th>322110</th>\n",
       "      <td>2010-08-31 10:52:00</td>\n",
       "      <td>2.55</td>\n",
       "      <td>14911.0</td>\n",
       "    </tr>\n",
       "    <tr>\n",
       "      <th>392562</th>\n",
       "      <td>2010-10-14 17:51:00</td>\n",
       "      <td>2.55</td>\n",
       "      <td>14911.0</td>\n",
       "    </tr>\n",
       "  </tbody>\n",
       "</table>\n",
       "</div>"
      ],
      "text/plain": [
       "               InvoiceDate  Price Customer ID\n",
       "109673 2010-03-03 12:21:00   2.55     14911.0\n",
       "322110 2010-08-31 10:52:00   2.55     14911.0\n",
       "392562 2010-10-14 17:51:00   2.55     14911.0"
      ]
     },
     "execution_count": 20,
     "metadata": {},
     "output_type": "execute_result"
    }
   ],
   "source": [
    "grupo2.get_group((\"22041\",'EIRE'))[['InvoiceDate','Price','Customer ID']]"
   ]
  },
  {
   "cell_type": "code",
   "execution_count": 21,
   "id": "c1a9b2c1",
   "metadata": {},
   "outputs": [
    {
     "data": {
      "text/html": [
       "<div>\n",
       "<style scoped>\n",
       "    .dataframe tbody tr th:only-of-type {\n",
       "        vertical-align: middle;\n",
       "    }\n",
       "\n",
       "    .dataframe tbody tr th {\n",
       "        vertical-align: top;\n",
       "    }\n",
       "\n",
       "    .dataframe thead th {\n",
       "        text-align: right;\n",
       "    }\n",
       "</style>\n",
       "<table border=\"1\" class=\"dataframe\">\n",
       "  <thead>\n",
       "    <tr style=\"text-align: right;\">\n",
       "      <th></th>\n",
       "      <th>InvoiceDate</th>\n",
       "      <th>Price</th>\n",
       "      <th>Customer ID</th>\n",
       "    </tr>\n",
       "  </thead>\n",
       "  <tbody>\n",
       "    <tr>\n",
       "      <th>404602</th>\n",
       "      <td>2010-10-20 14:28:00</td>\n",
       "      <td>7.95</td>\n",
       "      <td>12421.0</td>\n",
       "    </tr>\n",
       "  </tbody>\n",
       "</table>\n",
       "</div>"
      ],
      "text/plain": [
       "               InvoiceDate  Price Customer ID\n",
       "404602 2010-10-20 14:28:00   7.95     12421.0"
      ]
     },
     "execution_count": 21,
     "metadata": {},
     "output_type": "execute_result"
    }
   ],
   "source": [
    "grupo2.get_group((\"85048\",'Spain'))[['InvoiceDate','Price','Customer ID']]"
   ]
  },
  {
   "cell_type": "code",
   "execution_count": 22,
   "id": "3f3134af",
   "metadata": {},
   "outputs": [
    {
     "data": {
      "text/html": [
       "<div>\n",
       "<style scoped>\n",
       "    .dataframe tbody tr th:only-of-type {\n",
       "        vertical-align: middle;\n",
       "    }\n",
       "\n",
       "    .dataframe tbody tr th {\n",
       "        vertical-align: top;\n",
       "    }\n",
       "\n",
       "    .dataframe thead th {\n",
       "        text-align: right;\n",
       "    }\n",
       "</style>\n",
       "<table border=\"1\" class=\"dataframe\">\n",
       "  <thead>\n",
       "    <tr style=\"text-align: right;\">\n",
       "      <th></th>\n",
       "      <th>InvoiceDate</th>\n",
       "      <th>Price</th>\n",
       "      <th>Customer ID</th>\n",
       "    </tr>\n",
       "  </thead>\n",
       "  <tbody>\n",
       "    <tr>\n",
       "      <th>447601</th>\n",
       "      <td>2010-11-10 13:19:00</td>\n",
       "      <td>7.95</td>\n",
       "      <td>12422.0</td>\n",
       "    </tr>\n",
       "  </tbody>\n",
       "</table>\n",
       "</div>"
      ],
      "text/plain": [
       "               InvoiceDate  Price Customer ID\n",
       "447601 2010-11-10 13:19:00   7.95     12422.0"
      ]
     },
     "execution_count": 22,
     "metadata": {},
     "output_type": "execute_result"
    }
   ],
   "source": [
    "grupo2.get_group((\"85048\",'Switzerland'))[['InvoiceDate','Price','Customer ID']]"
   ]
  },
  {
   "cell_type": "markdown",
   "id": "3bb3c2ee",
   "metadata": {},
   "source": [
    "El precio exactamente varía según la fecha en el cual se compró el producto ¿Hay alguna relación con respecto al cliente y su nacionalidad?- Sí, Hay variación de precio por fecha y por Nacionalidad aunque no se aprecia una correlación muy relevante.\n",
    "\n",
    "\n",
    "Siguiente paso será notar algunas correlaciones, ordenar, limpiar y preparar los datos para visualizar, y luego hacer un análisis respectivo. "
   ]
  },
  {
   "cell_type": "markdown",
   "id": "9538e49c",
   "metadata": {},
   "source": [
    "Como queremos que realizar una segmentación de clientes, entonces defininimos la columna `Customer ID` como nuestra `Clase`. \n",
    "\n",
    "___\n",
    "\n",
    "\n",
    "Visualicemos un poco..."
   ]
  },
  {
   "cell_type": "code",
   "execution_count": 23,
   "id": "7d14d8c5",
   "metadata": {},
   "outputs": [
    {
     "data": {
      "text/plain": [
       "Customer ID\n",
       "14911.0    5710\n",
       "17841.0    5114\n",
       "14606.0    3927\n",
       "14156.0    2710\n",
       "12748.0    2665\n",
       "           ... \n",
       "18174.0       1\n",
       "14827.0       1\n",
       "17645.0       1\n",
       "16443.0       1\n",
       "13222.0       1\n",
       "Name: count, Length: 4383, dtype: int64"
      ]
     },
     "execution_count": 23,
     "metadata": {},
     "output_type": "execute_result"
    }
   ],
   "source": [
    "ds['Customer ID'].value_counts()"
   ]
  },
  {
   "cell_type": "markdown",
   "id": "30b3e08f",
   "metadata": {},
   "source": [
    "Tengo un total de **4383 clientes**, con diferentes frecuencias. Como una técnica de validación de la segmentación de clientes podría usar como test aquellos clientes que solo han ido a comprar una sola vez.\n"
   ]
  },
  {
   "cell_type": "markdown",
   "id": "916e2a23",
   "metadata": {},
   "source": [
    "___\n",
    "___\n",
    "___\n"
   ]
  },
  {
   "cell_type": "code",
   "execution_count": 32,
   "id": "d3d62250",
   "metadata": {
    "scrolled": false
   },
   "outputs": [
    {
     "data": {
      "text/plain": [
       "<Figure size 640x480 with 0 Axes>"
      ]
     },
     "metadata": {},
     "output_type": "display_data"
    },
    {
     "data": {
      "image/png": "[encoded data removed]",
      "text/plain": [
       "<Figure size 800x1100 with 2 Axes>"
      ]
     },
     "metadata": {},
     "output_type": "display_data"
    }
   ],
   "source": [
    "stock_index = np.array(ds['StockCode'].value_counts().iloc[:10].index)\n",
    "stock_freq = [] #np.array(ds['StockCode'].value_counts().iloc[:8])\n",
    "\n",
    "#descriptions\n",
    "descr = []\n",
    "for s in stock_index:\n",
    "    descr.append(grupo.get_group(s)[['Description']].value_counts().index[0][0])\n",
    "    stock_freq.append(grupo.get_group(s)[['Quantity']].sum()[0])\n",
    "descr, stock = np.array(descr),np.array(stock_freq)\n",
    "#making pandas table    \n",
    "df_table = pd.DataFrame(\n",
    "    data=np.concatenate([stock_index.reshape(len(stock_index),1),descr.reshape(len(stock_index),1)],axis=1),\n",
    "    columns=['StockCode','Description']\n",
    ")\n",
    "\n",
    "plt.figure()\n",
    "fig, (ax1, ax2) = plt.subplots(ncols=1,nrows=2,figsize=[8,11],frameon=True)\n",
    "\n",
    "table = ax2.table(cellText=df_table.values,\n",
    "                  cellLoc='center',\n",
    "                  colLabels=df_table.columns,\n",
    "                  colColours=['lightgreen','magenta'],\n",
    "                  loc = \"center\",\n",
    "                  fontsize=20\n",
    "                 )\n",
    "ax2.axis(\"tight\")\n",
    "ax2.axis(\"off\")\n",
    "\n",
    "ax1.set_title(\"Bestselling Stocks\",fontsize=15)\n",
    "ax1.bar(stock_index,stock_freq,color=\"green\",edgecolor=\"darkgreen\",alpha=0.8)\n",
    "ax1.set_ylabel(\"Stock Frequencies\",fontsize=12)\n",
    "ax1.set_xlabel(\"Stock Code\",fontsize=12)\n",
    "ax1.grid(visible=True,alpha=.3)\n",
    "\n",
    "plt.tight_layout()\n",
    "plt.show()"
   ]
  },
  {
   "cell_type": "markdown",
   "id": "747d2eab",
   "metadata": {},
   "source": [
    "In this small sample of the data we can see the products most purchasesd by customer correspond to home devices and different kind ob bags. If I show all data it is possible to observe the products with less purchase.  \n",
    "___"
   ]
  },
  {
   "cell_type": "code",
   "execution_count": 25,
   "id": "b6b10a3b",
   "metadata": {},
   "outputs": [
    {
     "name": "stderr",
     "output_type": "stream",
     "text": [
      "/tmp/ipykernel_13/800685317.py:40: UserWarning: FixedFormatter should only be used together with FixedLocator\n",
      "  ax1.set_xticklabels(labels=customer_index, rotation=45)\n",
      "/tmp/ipykernel_13/800685317.py:46: UserWarning: FixedFormatter should only be used together with FixedLocator\n",
      "  ax2.set_xticklabels(labels=customer_index, rotation=45)\n"
     ]
    },
    {
     "data": {
      "image/png": "[encoded data removed]",
      "text/plain": [
       "<Figure size 800x1400 with 3 Axes>"
      ]
     },
     "metadata": {},
     "output_type": "display_data"
    }
   ],
   "source": [
    "grupo3 = ds.groupby('Customer ID')\n",
    "\n",
    "customer_index = np.array(ds['Customer ID'].value_counts().iloc[:15].index)\n",
    "customer_freq = []#np.array(ds['Customer ID'].value_counts().iloc[:8])\n",
    "\n",
    "country, expense = [],[]\n",
    "for s in customer_index:\n",
    "    country.append(grupo3.get_group(s)[['Country']].value_counts().index[0][0])\n",
    "    customer_freq.append(grupo3.get_group(s)[['Quantity']].sum()[0])\n",
    "    expense.append(round(grupo3.get_group(s)[['Price']].sum()[0],2))\n",
    "\n",
    "country, expense = np.array(country), np.array(expense)\n",
    "\n",
    "#making pandas table    \n",
    "df_table = pd.DataFrame(\n",
    "    data=np.concatenate([customer_index.reshape(len(customer_index),1),\n",
    "                         country.reshape(len(customer_index),1),\n",
    "                         expense.reshape(len(customer_index),1)\n",
    "                        ],axis=1),\n",
    "    columns=['Customer ID','Country','Purchase expense (USD)']\n",
    ")\n",
    "\n",
    "fig, (ax1, ax2, ax3) = plt.subplots(ncols=1,nrows=3,figsize=[8,14])\n",
    "\n",
    "\n",
    "table = ax3.table(cellText=df_table.values,\n",
    "                  cellLoc='center',\n",
    "                  colLabels=df_table.columns,\n",
    "                  colColours=['lightgreen','lightblue','orange'],\n",
    "                  loc = \"center\",\n",
    "                  fontsize=20\n",
    "                 )\n",
    "ax3.axis(\"tight\")\n",
    "ax3.axis(\"off\")\n",
    "\n",
    "ax1.set_title(\"Customer\",fontsize=15)\n",
    "ax1.bar(customer_index,customer_freq,color=\"green\",edgecolor=\"darkgreen\",alpha=0.8)\n",
    "ax1.set_ylabel(\"Purchases\",fontsize=12)\n",
    "ax1.set_xlabel(\"Customer ID\",fontsize=12)\n",
    "ax1.set_xticklabels(labels=customer_index, rotation=45)\n",
    "\n",
    "ax2.set_title(\"Customer Expenses\",fontsize=15)\n",
    "ax2.bar(customer_index,expense,color=\"purple\",edgecolor=\"black\",alpha=0.8)\n",
    "ax2.set_ylabel(\"Expenses USD\",fontsize=12)\n",
    "ax2.set_xlabel(\"Customer ID\",fontsize=12)\n",
    "ax2.set_xticklabels(labels=customer_index, rotation=45)\n",
    "\n",
    "\n",
    "plt.tight_layout()\n",
    "plt.show()\n",
    "\n",
    "#add money spent in these purchases per customer."
   ]
  },
  {
   "cell_type": "markdown",
   "id": "4726db45",
   "metadata": {},
   "source": [
    "In thee above _bar charts_ there is little correlation between the amount of stock purchased and the amount spent on purchases. However, it is still possible to make some analysis. For instance, there are customers who purchase a few products but spend less money compared to other customers who also purchase a few products but spend more. Conversely, there are customers who purchase more products but are modest in terms of expenses\n",
    "\n",
    "Now, It is possible to make another analysis with respect to the date. "
   ]
  },
  {
   "cell_type": "code",
   "execution_count": 26,
   "id": "c4c1d197",
   "metadata": {},
   "outputs": [
    {
     "data": {
      "text/plain": [
       "Invoice                object\n",
       "StockCode              object\n",
       "Description            object\n",
       "Quantity                int64\n",
       "InvoiceDate    datetime64[ns]\n",
       "Price                 float64\n",
       "Customer ID            object\n",
       "Country                object\n",
       "dtype: object"
      ]
     },
     "execution_count": 26,
     "metadata": {},
     "output_type": "execute_result"
    }
   ],
   "source": [
    "#checking the date columns type\n",
    "ds.dtypes"
   ]
  },
  {
   "cell_type": "code",
   "execution_count": 27,
   "id": "65753985",
   "metadata": {},
   "outputs": [
    {
     "data": {
      "text/plain": [
       "0        2009-12-01 07:45:00\n",
       "1        2009-12-01 07:45:00\n",
       "2        2009-12-01 07:45:00\n",
       "3        2009-12-01 07:45:00\n",
       "4        2009-12-01 07:45:00\n",
       "                 ...        \n",
       "525456   2010-12-09 20:01:00\n",
       "525457   2010-12-09 20:01:00\n",
       "525458   2010-12-09 20:01:00\n",
       "525459   2010-12-09 20:01:00\n",
       "525460   2010-12-09 20:01:00\n",
       "Name: InvoiceDate, Length: 417534, dtype: datetime64[ns]"
      ]
     },
     "execution_count": 27,
     "metadata": {},
     "output_type": "execute_result"
    }
   ],
   "source": [
    "ds['InvoiceDate']"
   ]
  },
  {
   "cell_type": "markdown",
   "id": "d0eeb0d7",
   "metadata": {},
   "source": [
    "__Now, I gonna make diferent columns with date data.__\n",
    "\n"
   ]
  },
  {
   "cell_type": "code",
   "execution_count": 28,
   "id": "937225cb",
   "metadata": {},
   "outputs": [
    {
     "data": {
      "text/html": [
       "<div>\n",
       "<style scoped>\n",
       "    .dataframe tbody tr th:only-of-type {\n",
       "        vertical-align: middle;\n",
       "    }\n",
       "\n",
       "    .dataframe tbody tr th {\n",
       "        vertical-align: top;\n",
       "    }\n",
       "\n",
       "    .dataframe thead th {\n",
       "        text-align: right;\n",
       "    }\n",
       "</style>\n",
       "<table border=\"1\" class=\"dataframe\">\n",
       "  <thead>\n",
       "    <tr style=\"text-align: right;\">\n",
       "      <th></th>\n",
       "      <th>Invoice</th>\n",
       "      <th>StockCode</th>\n",
       "      <th>Description</th>\n",
       "      <th>Quantity</th>\n",
       "      <th>InvoiceDate</th>\n",
       "      <th>Price</th>\n",
       "      <th>Customer ID</th>\n",
       "      <th>Country</th>\n",
       "      <th>Day</th>\n",
       "      <th>Month</th>\n",
       "      <th>Year</th>\n",
       "      <th>Hours</th>\n",
       "      <th>Minutes</th>\n",
       "    </tr>\n",
       "  </thead>\n",
       "  <tbody>\n",
       "    <tr>\n",
       "      <th>0</th>\n",
       "      <td>489434</td>\n",
       "      <td>85048</td>\n",
       "      <td>15CM CHRISTMAS GLASS BALL 20 LIGHTS</td>\n",
       "      <td>12</td>\n",
       "      <td>2009-12-01 07:45:00</td>\n",
       "      <td>6.95</td>\n",
       "      <td>13085.0</td>\n",
       "      <td>United Kingdom</td>\n",
       "      <td>1</td>\n",
       "      <td>12</td>\n",
       "      <td>2009</td>\n",
       "      <td>7</td>\n",
       "      <td>45</td>\n",
       "    </tr>\n",
       "    <tr>\n",
       "      <th>1</th>\n",
       "      <td>489434</td>\n",
       "      <td>79323P</td>\n",
       "      <td>PINK CHERRY LIGHTS</td>\n",
       "      <td>12</td>\n",
       "      <td>2009-12-01 07:45:00</td>\n",
       "      <td>6.75</td>\n",
       "      <td>13085.0</td>\n",
       "      <td>United Kingdom</td>\n",
       "      <td>1</td>\n",
       "      <td>12</td>\n",
       "      <td>2009</td>\n",
       "      <td>7</td>\n",
       "      <td>45</td>\n",
       "    </tr>\n",
       "    <tr>\n",
       "      <th>2</th>\n",
       "      <td>489434</td>\n",
       "      <td>79323W</td>\n",
       "      <td>WHITE CHERRY LIGHTS</td>\n",
       "      <td>12</td>\n",
       "      <td>2009-12-01 07:45:00</td>\n",
       "      <td>6.75</td>\n",
       "      <td>13085.0</td>\n",
       "      <td>United Kingdom</td>\n",
       "      <td>1</td>\n",
       "      <td>12</td>\n",
       "      <td>2009</td>\n",
       "      <td>7</td>\n",
       "      <td>45</td>\n",
       "    </tr>\n",
       "    <tr>\n",
       "      <th>3</th>\n",
       "      <td>489434</td>\n",
       "      <td>22041</td>\n",
       "      <td>RECORD FRAME 7\" SINGLE SIZE</td>\n",
       "      <td>48</td>\n",
       "      <td>2009-12-01 07:45:00</td>\n",
       "      <td>2.10</td>\n",
       "      <td>13085.0</td>\n",
       "      <td>United Kingdom</td>\n",
       "      <td>1</td>\n",
       "      <td>12</td>\n",
       "      <td>2009</td>\n",
       "      <td>7</td>\n",
       "      <td>45</td>\n",
       "    </tr>\n",
       "    <tr>\n",
       "      <th>4</th>\n",
       "      <td>489434</td>\n",
       "      <td>21232</td>\n",
       "      <td>STRAWBERRY CERAMIC TRINKET BOX</td>\n",
       "      <td>24</td>\n",
       "      <td>2009-12-01 07:45:00</td>\n",
       "      <td>1.25</td>\n",
       "      <td>13085.0</td>\n",
       "      <td>United Kingdom</td>\n",
       "      <td>1</td>\n",
       "      <td>12</td>\n",
       "      <td>2009</td>\n",
       "      <td>7</td>\n",
       "      <td>45</td>\n",
       "    </tr>\n",
       "    <tr>\n",
       "      <th>5</th>\n",
       "      <td>489434</td>\n",
       "      <td>22064</td>\n",
       "      <td>PINK DOUGHNUT TRINKET POT</td>\n",
       "      <td>24</td>\n",
       "      <td>2009-12-01 07:45:00</td>\n",
       "      <td>1.65</td>\n",
       "      <td>13085.0</td>\n",
       "      <td>United Kingdom</td>\n",
       "      <td>1</td>\n",
       "      <td>12</td>\n",
       "      <td>2009</td>\n",
       "      <td>7</td>\n",
       "      <td>45</td>\n",
       "    </tr>\n",
       "    <tr>\n",
       "      <th>6</th>\n",
       "      <td>489434</td>\n",
       "      <td>21871</td>\n",
       "      <td>SAVE THE PLANET MUG</td>\n",
       "      <td>24</td>\n",
       "      <td>2009-12-01 07:45:00</td>\n",
       "      <td>1.25</td>\n",
       "      <td>13085.0</td>\n",
       "      <td>United Kingdom</td>\n",
       "      <td>1</td>\n",
       "      <td>12</td>\n",
       "      <td>2009</td>\n",
       "      <td>7</td>\n",
       "      <td>45</td>\n",
       "    </tr>\n",
       "    <tr>\n",
       "      <th>7</th>\n",
       "      <td>489434</td>\n",
       "      <td>21523</td>\n",
       "      <td>FANCY FONT HOME SWEET HOME DOORMAT</td>\n",
       "      <td>10</td>\n",
       "      <td>2009-12-01 07:45:00</td>\n",
       "      <td>5.95</td>\n",
       "      <td>13085.0</td>\n",
       "      <td>United Kingdom</td>\n",
       "      <td>1</td>\n",
       "      <td>12</td>\n",
       "      <td>2009</td>\n",
       "      <td>7</td>\n",
       "      <td>45</td>\n",
       "    </tr>\n",
       "    <tr>\n",
       "      <th>8</th>\n",
       "      <td>489435</td>\n",
       "      <td>22350</td>\n",
       "      <td>CAT BOWL</td>\n",
       "      <td>12</td>\n",
       "      <td>2009-12-01 07:46:00</td>\n",
       "      <td>2.55</td>\n",
       "      <td>13085.0</td>\n",
       "      <td>United Kingdom</td>\n",
       "      <td>1</td>\n",
       "      <td>12</td>\n",
       "      <td>2009</td>\n",
       "      <td>7</td>\n",
       "      <td>46</td>\n",
       "    </tr>\n",
       "    <tr>\n",
       "      <th>9</th>\n",
       "      <td>489435</td>\n",
       "      <td>22349</td>\n",
       "      <td>DOG BOWL , CHASING BALL DESIGN</td>\n",
       "      <td>12</td>\n",
       "      <td>2009-12-01 07:46:00</td>\n",
       "      <td>3.75</td>\n",
       "      <td>13085.0</td>\n",
       "      <td>United Kingdom</td>\n",
       "      <td>1</td>\n",
       "      <td>12</td>\n",
       "      <td>2009</td>\n",
       "      <td>7</td>\n",
       "      <td>46</td>\n",
       "    </tr>\n",
       "  </tbody>\n",
       "</table>\n",
       "</div>"
      ],
      "text/plain": [
       "  Invoice StockCode                          Description  Quantity   \n",
       "0  489434     85048  15CM CHRISTMAS GLASS BALL 20 LIGHTS        12  \\\n",
       "1  489434    79323P                   PINK CHERRY LIGHTS        12   \n",
       "2  489434    79323W                  WHITE CHERRY LIGHTS        12   \n",
       "3  489434     22041         RECORD FRAME 7\" SINGLE SIZE         48   \n",
       "4  489434     21232       STRAWBERRY CERAMIC TRINKET BOX        24   \n",
       "5  489434     22064           PINK DOUGHNUT TRINKET POT         24   \n",
       "6  489434     21871                  SAVE THE PLANET MUG        24   \n",
       "7  489434     21523   FANCY FONT HOME SWEET HOME DOORMAT        10   \n",
       "8  489435     22350                            CAT BOWL         12   \n",
       "9  489435     22349       DOG BOWL , CHASING BALL DESIGN        12   \n",
       "\n",
       "          InvoiceDate  Price Customer ID         Country  Day  Month  Year   \n",
       "0 2009-12-01 07:45:00   6.95     13085.0  United Kingdom    1     12  2009  \\\n",
       "1 2009-12-01 07:45:00   6.75     13085.0  United Kingdom    1     12  2009   \n",
       "2 2009-12-01 07:45:00   6.75     13085.0  United Kingdom    1     12  2009   \n",
       "3 2009-12-01 07:45:00   2.10     13085.0  United Kingdom    1     12  2009   \n",
       "4 2009-12-01 07:45:00   1.25     13085.0  United Kingdom    1     12  2009   \n",
       "5 2009-12-01 07:45:00   1.65     13085.0  United Kingdom    1     12  2009   \n",
       "6 2009-12-01 07:45:00   1.25     13085.0  United Kingdom    1     12  2009   \n",
       "7 2009-12-01 07:45:00   5.95     13085.0  United Kingdom    1     12  2009   \n",
       "8 2009-12-01 07:46:00   2.55     13085.0  United Kingdom    1     12  2009   \n",
       "9 2009-12-01 07:46:00   3.75     13085.0  United Kingdom    1     12  2009   \n",
       "\n",
       "   Hours  Minutes  \n",
       "0      7       45  \n",
       "1      7       45  \n",
       "2      7       45  \n",
       "3      7       45  \n",
       "4      7       45  \n",
       "5      7       45  \n",
       "6      7       45  \n",
       "7      7       45  \n",
       "8      7       46  \n",
       "9      7       46  "
      ]
     },
     "execution_count": 28,
     "metadata": {},
     "output_type": "execute_result"
    }
   ],
   "source": [
    "ds2 = ds.copy()\n",
    "ds2['Day'] = ds2['InvoiceDate'].dt.day \n",
    "ds2['Month'] = ds2['InvoiceDate'].dt.month\n",
    "ds2['Year'] = ds2['InvoiceDate'].dt.year\n",
    "ds2['Hours'] = ds2['InvoiceDate'].dt.hour\n",
    "ds2['Minutes'] = ds2['InvoiceDate'].dt.minute \n",
    "ds2.head(10)"
   ]
  },
  {
   "cell_type": "code",
   "execution_count": 29,
   "id": "f8bf341b",
   "metadata": {},
   "outputs": [
    {
     "data": {
      "text/plain": [
       "Year\n",
       "2010    385774\n",
       "2009     31760\n",
       "Name: count, dtype: int64"
      ]
     },
     "execution_count": 29,
     "metadata": {},
     "output_type": "execute_result"
    }
   ],
   "source": [
    "ds2['Year'].value_counts()"
   ]
  },
  {
   "cell_type": "code",
   "execution_count": 42,
   "id": "a948d167",
   "metadata": {},
   "outputs": [
    {
     "data": {
      "text/plain": [
       "Month\n",
       "11    61490\n",
       "10    50561\n",
       "9     35386\n",
       "3     33114\n",
       "6     31950\n",
       "5     29604\n",
       "4     27833\n",
       "7     27746\n",
       "8     26942\n",
       "2     23906\n",
       "1     22439\n",
       "12    14803\n",
       "Name: count, dtype: int64"
      ]
     },
     "execution_count": 42,
     "metadata": {},
     "output_type": "execute_result"
    }
   ],
   "source": [
    "ds2[ds2['Year']==2010]['Month'].value_counts()"
   ]
  },
  {
   "cell_type": "code",
   "execution_count": 45,
   "id": "fbe0cd80",
   "metadata": {},
   "outputs": [],
   "source": [
    "grupo_y = ds2.groupby(['Year','Month'])"
   ]
  },
  {
   "cell_type": "code",
   "execution_count": 50,
   "id": "37262a60",
   "metadata": {},
   "outputs": [
    {
     "data": {
      "text/html": [
       "<div>\n",
       "<style scoped>\n",
       "    .dataframe tbody tr th:only-of-type {\n",
       "        vertical-align: middle;\n",
       "    }\n",
       "\n",
       "    .dataframe tbody tr th {\n",
       "        vertical-align: top;\n",
       "    }\n",
       "\n",
       "    .dataframe thead th {\n",
       "        text-align: right;\n",
       "    }\n",
       "</style>\n",
       "<table border=\"1\" class=\"dataframe\">\n",
       "  <thead>\n",
       "    <tr style=\"text-align: right;\">\n",
       "      <th></th>\n",
       "      <th>Price</th>\n",
       "      <th>Quantity</th>\n",
       "      <th>Customer ID</th>\n",
       "    </tr>\n",
       "  </thead>\n",
       "  <tbody>\n",
       "    <tr>\n",
       "      <th>0</th>\n",
       "      <td>6.95</td>\n",
       "      <td>12</td>\n",
       "      <td>13085.0</td>\n",
       "    </tr>\n",
       "    <tr>\n",
       "      <th>1</th>\n",
       "      <td>6.75</td>\n",
       "      <td>12</td>\n",
       "      <td>13085.0</td>\n",
       "    </tr>\n",
       "    <tr>\n",
       "      <th>2</th>\n",
       "      <td>6.75</td>\n",
       "      <td>12</td>\n",
       "      <td>13085.0</td>\n",
       "    </tr>\n",
       "    <tr>\n",
       "      <th>3</th>\n",
       "      <td>2.10</td>\n",
       "      <td>48</td>\n",
       "      <td>13085.0</td>\n",
       "    </tr>\n",
       "    <tr>\n",
       "      <th>4</th>\n",
       "      <td>1.25</td>\n",
       "      <td>24</td>\n",
       "      <td>13085.0</td>\n",
       "    </tr>\n",
       "    <tr>\n",
       "      <th>...</th>\n",
       "      <td>...</td>\n",
       "      <td>...</td>\n",
       "      <td>...</td>\n",
       "    </tr>\n",
       "    <tr>\n",
       "      <th>45219</th>\n",
       "      <td>2.95</td>\n",
       "      <td>1</td>\n",
       "      <td>17867.0</td>\n",
       "    </tr>\n",
       "    <tr>\n",
       "      <th>45220</th>\n",
       "      <td>2.95</td>\n",
       "      <td>1</td>\n",
       "      <td>17867.0</td>\n",
       "    </tr>\n",
       "    <tr>\n",
       "      <th>45221</th>\n",
       "      <td>2.95</td>\n",
       "      <td>1</td>\n",
       "      <td>17867.0</td>\n",
       "    </tr>\n",
       "    <tr>\n",
       "      <th>45222</th>\n",
       "      <td>0.95</td>\n",
       "      <td>10</td>\n",
       "      <td>17867.0</td>\n",
       "    </tr>\n",
       "    <tr>\n",
       "      <th>45227</th>\n",
       "      <td>12.75</td>\n",
       "      <td>48</td>\n",
       "      <td>17819.0</td>\n",
       "    </tr>\n",
       "  </tbody>\n",
       "</table>\n",
       "<p>31760 rows × 3 columns</p>\n",
       "</div>"
      ],
      "text/plain": [
       "       Price  Quantity Customer ID\n",
       "0       6.95        12     13085.0\n",
       "1       6.75        12     13085.0\n",
       "2       6.75        12     13085.0\n",
       "3       2.10        48     13085.0\n",
       "4       1.25        24     13085.0\n",
       "...      ...       ...         ...\n",
       "45219   2.95         1     17867.0\n",
       "45220   2.95         1     17867.0\n",
       "45221   2.95         1     17867.0\n",
       "45222   0.95        10     17867.0\n",
       "45227  12.75        48     17819.0\n",
       "\n",
       "[31760 rows x 3 columns]"
      ]
     },
     "execution_count": 50,
     "metadata": {},
     "output_type": "execute_result"
    }
   ],
   "source": [
    "ds_2009 = grupo_y.get_group((2009,12))[['Price','Quantity','Customer ID']]\n",
    "ds_2009"
   ]
  },
  {
   "cell_type": "code",
   "execution_count": 52,
   "id": "a54cc340",
   "metadata": {},
   "outputs": [
    {
     "data": {
      "text/plain": [
       "663272.0499999978"
      ]
     },
     "execution_count": 52,
     "metadata": {},
     "output_type": "execute_result"
    }
   ],
   "source": [
    "sum(ds_2009['Price'] * ds_2009['Quantity'])"
   ]
  },
  {
   "cell_type": "code",
   "execution_count": 68,
   "id": "c688019f",
   "metadata": {},
   "outputs": [
    {
     "data": {
      "image/png": "[encoded data removed]",
      "text/plain": [
       "<Figure size 1200x700 with 1 Axes>"
      ]
     },
     "metadata": {},
     "output_type": "display_data"
    }
   ],
   "source": [
    "meses = sorted(ds2['Month'].unique())\n",
    "prices = {}\n",
    "for y in ds2['Year'].unique():\n",
    "    prices[str(y)]=[]\n",
    "    for m in ds2[ds2['Year']==y]['Month'].unique():\n",
    "        sub_g = grupo_y.get_group((y,m))[['Price','Quantity']]\n",
    "        prices[str(y)].append(round(sum(sub_g['Price']*sub_g['Quantity']),2))\n",
    "        \n",
    "plt.figure(figsize=[12,7])\n",
    "plt.title(\"Monthly Gain per Year\",fontsize=14)\n",
    "plt.bar(np.arange(len(meses)),prices['2010'],width=0.25,edgecolor='black',label='2010')\n",
    "pad = np.zeros(11).tolist()\n",
    "pad.append(prices['2009'][0])\n",
    "plt.bar([x + 0.25 for x in np.arange(len(meses))],pad,width=0.25,edgecolor='black',label='2009')\n",
    "plt.xlabel(\"Month\",fontweight='bold')\n",
    "plt.ylabel(\"Gains\",fontweight='bold')\n",
    "plt.xticks([r + 0.25 for r in range(len(meses))],meses)\n",
    "\n",
    "plt.legend()\n",
    "plt.show()\n",
    "    "
   ]
  },
  {
   "cell_type": "markdown",
   "id": "a7a48801",
   "metadata": {},
   "source": [
    "Possible Analysis: \n",
    "- why are there more gains in November of 2010?\n",
    "- Why is the December gain of 2009 better than in December of 2010?- To answer this question, It possible to make a chart of the gains only in decembers and what products were the bestsellers (to see this for November too)."
   ]
  },
  {
   "cell_type": "code",
   "execution_count": null,
   "id": "4584d96b",
   "metadata": {},
   "outputs": [],
   "source": []
  }
 ],
 "metadata": {
  "kernelspec": {
   "display_name": "Python 3 (ipykernel)",
   "language": "python",
   "name": "python3"
  },
  "language_info": {
   "codemirror_mode": {
    "name": "ipython",
    "version": 3
   },
   "file_extension": ".py",
   "mimetype": "text/x-python",
   "name": "python",
   "nbconvert_exporter": "python",
   "pygments_lexer": "ipython3",
   "version": "3.9.17"
  }
 },
 "nbformat": 4,
 "nbformat_minor": 5
}
